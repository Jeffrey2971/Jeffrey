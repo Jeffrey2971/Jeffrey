{
 "cells": [
  {
   "cell_type": "code",
   "execution_count": 1,
   "metadata": {},
   "outputs": [],
   "source": [
    "class Men():\n",
    "    \n",
    "    gender = 'male'               \n",
    "    avg_height = 1.7\n",
    "    \n",
    "    def __init__(self,name,age):\n",
    "        \n",
    "        self.name = name          \n",
    "        self.age  = age\n",
    "        \n",
    "        \n",
    "    def sleep(self):                 # 实例方法\n",
    "        print('sleeping')\n",
    "    \n",
    "    def think(self):                \n",
    "        print('thinking')\n",
    "    \n",
    "    @classmethod\n",
    "    def modify_height(cls,height):   # 类方法\n",
    "        cls.avg_height += height\n",
    "        print('Success.Now the avg_height is ' + str(cls.avg_height))"
   ]
  },
  {
   "cell_type": "code",
   "execution_count": null,
   "metadata": {},
   "outputs": [],
   "source": []
  },
  {
   "cell_type": "code",
   "execution_count": 3,
   "metadata": {},
   "outputs": [],
   "source": [
    "# 静态方法，与普通函数基本上没有什么区别。\n",
    "# 静态方法与类、对象没有太大关系的时候，可以使用该方法。"
   ]
  },
  {
   "cell_type": "code",
   "execution_count": null,
   "metadata": {},
   "outputs": [],
   "source": []
  },
  {
   "cell_type": "code",
   "execution_count": null,
   "metadata": {},
   "outputs": [],
   "source": []
  },
  {
   "cell_type": "code",
   "execution_count": 10,
   "metadata": {},
   "outputs": [],
   "source": [
    "class Men():\n",
    "    \n",
    "    gender = 'male'               \n",
    "    avg_height = 1.7\n",
    "    \n",
    "    def __init__(self,name,age):\n",
    "        \n",
    "        self.name = name          \n",
    "        self.age  = age\n",
    "        \n",
    "        \n",
    "    def sleep(self):                 # 实例方法\n",
    "        print('sleeping')\n",
    "    \n",
    "    def think(self):                \n",
    "        print('thinking')\n",
    "    \n",
    "    @classmethod\n",
    "    def modify_height(cls,height):   # 类方法\n",
    "        cls.avg_height += height\n",
    "        print('Success.Now the avg_height is ' + str(cls.avg_height))\n",
    "    \n",
    "    @staticmethod\n",
    "    def plus_num(x,y):\n",
    "        return x * y\n"
   ]
  },
  {
   "cell_type": "code",
   "execution_count": 11,
   "metadata": {},
   "outputs": [
    {
     "data": {
      "text/plain": [
       "6"
      ]
     },
     "execution_count": 11,
     "metadata": {},
     "output_type": "execute_result"
    }
   ],
   "source": [
    "men = Men('lemon',18)\n",
    "men.plus_num(2,3)"
   ]
  },
  {
   "cell_type": "code",
   "execution_count": null,
   "metadata": {},
   "outputs": [],
   "source": []
  },
  {
   "cell_type": "code",
   "execution_count": 9,
   "metadata": {},
   "outputs": [],
   "source": [
    "# 相对于静态方法，我更建议大家使用类方法"
   ]
  },
  {
   "cell_type": "code",
   "execution_count": null,
   "metadata": {},
   "outputs": [],
   "source": []
  }
 ],
 "metadata": {
  "kernelspec": {
   "display_name": "Python 3",
   "language": "python",
   "name": "python3"
  },
  "language_info": {
   "codemirror_mode": {
    "name": "ipython",
    "version": 3
   },
   "file_extension": ".py",
   "mimetype": "text/x-python",
   "name": "python",
   "nbconvert_exporter": "python",
   "pygments_lexer": "ipython3",
   "version": "3.6.5"
  }
 },
 "nbformat": 4,
 "nbformat_minor": 2
}
