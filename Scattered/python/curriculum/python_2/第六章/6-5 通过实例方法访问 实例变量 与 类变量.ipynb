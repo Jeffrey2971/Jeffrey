{
 "cells": [
  {
   "cell_type": "code",
   "execution_count": null,
   "metadata": {},
   "outputs": [],
   "source": [
    "# 我们通过变量，可以去刻画类的特征。\n",
    "# 我们通过方法，可以去描述类的行为。"
   ]
  },
  {
   "cell_type": "code",
   "execution_count": null,
   "metadata": {},
   "outputs": [],
   "source": [
    "# 类变量：   刻画类本身的特征        (只与类有关)\n",
    "# 实例变量： 刻画对象的具体特征       (只与对象有关，这里的对象指的是实例化之后的对象)"
   ]
  },
  {
   "cell_type": "code",
   "execution_count": null,
   "metadata": {},
   "outputs": [],
   "source": []
  },
  {
   "cell_type": "code",
   "execution_count": 24,
   "metadata": {},
   "outputs": [],
   "source": [
    "class Men():\n",
    "    \n",
    "    gender = 'male'               # 类变量（描述类的通俗特征）\n",
    "    avg_height = 1.7\n",
    "    \n",
    "    def __init__(self,name,age):\n",
    "        \n",
    "        # 初始化对象特征\n",
    "        # 保存了对象的特征\n",
    "        self.name = name          # 实例变量 （保存对象的具体特征）\n",
    "        self.age  = age\n",
    "        \n",
    "        \n",
    "    def sleep(self):\n",
    "        print('sleeping')\n",
    "    \n",
    "    def think(self):\n",
    "        print('thinking')"
   ]
  },
  {
   "cell_type": "code",
   "execution_count": null,
   "metadata": {},
   "outputs": [],
   "source": [
    "men = Men('lemon',18)"
   ]
  },
  {
   "cell_type": "code",
   "execution_count": null,
   "metadata": {},
   "outputs": [],
   "source": []
  },
  {
   "cell_type": "code",
   "execution_count": null,
   "metadata": {},
   "outputs": [],
   "source": []
  },
  {
   "cell_type": "code",
   "execution_count": null,
   "metadata": {},
   "outputs": [],
   "source": []
  },
  {
   "cell_type": "code",
   "execution_count": null,
   "metadata": {},
   "outputs": [],
   "source": []
  },
  {
   "cell_type": "code",
   "execution_count": null,
   "metadata": {},
   "outputs": [],
   "source": []
  },
  {
   "cell_type": "code",
   "execution_count": null,
   "metadata": {},
   "outputs": [],
   "source": []
  },
  {
   "cell_type": "code",
   "execution_count": 11,
   "metadata": {},
   "outputs": [],
   "source": [
    "class Men():\n",
    "    \n",
    "    gender = 'male'               # 类变量\n",
    "    avg_height = 1.7\n",
    "    \n",
    "    def __init__(self,name,age):\n",
    "        \n",
    "        # 初始化对象特征\n",
    "        self.name = name          # 实例变量\n",
    "        self.age  = age\n",
    "        \n",
    "        \n",
    "    def sleep(self):\n",
    "        print('sleeping')\n",
    "    \n",
    "    def think(self):\n",
    "        print('thinking')\n",
    "    \n",
    "    def find(self):\n",
    "        print('this is ' + str(self.name))\n",
    "        print('I am ' + str(self.age))\n",
    "        \n",
    "        print('--------------------')\n",
    "        \n",
    "        print(self.__class__.gender)\n",
    "        print(self.__class__.avg_height)\n",
    "        \n",
    "        print('--------------------')\n",
    "        \n",
    "        print(Men.gender)\n",
    "        print(Men.avg_height)\n",
    "        \n",
    "        print('--------------------')\n",
    "        \n",
    "        print(self.gender)\n",
    "        print(self.avg_height)\n",
    "    \n",
    "    "
   ]
  },
  {
   "cell_type": "code",
   "execution_count": 12,
   "metadata": {},
   "outputs": [
    {
     "name": "stdout",
     "output_type": "stream",
     "text": [
      "this is lemon\n",
      "I am 18\n",
      "--------------------\n",
      "male\n",
      "1.7\n",
      "--------------------\n",
      "male\n",
      "1.7\n",
      "--------------------\n",
      "male\n",
      "1.7\n"
     ]
    }
   ],
   "source": [
    "men = Men('lemon',18)\n",
    "men.find()"
   ]
  },
  {
   "cell_type": "code",
   "execution_count": null,
   "metadata": {},
   "outputs": [],
   "source": []
  },
  {
   "cell_type": "code",
   "execution_count": null,
   "metadata": {},
   "outputs": [],
   "source": [
    " "
   ]
  },
  {
   "cell_type": "code",
   "execution_count": null,
   "metadata": {},
   "outputs": [],
   "source": []
  }
 ],
 "metadata": {
  "kernelspec": {
   "display_name": "Python 3",
   "language": "python",
   "name": "python3"
  },
  "language_info": {
   "codemirror_mode": {
    "name": "ipython",
    "version": 3
   },
   "file_extension": ".py",
   "mimetype": "text/x-python",
   "name": "python",
   "nbconvert_exporter": "python",
   "pygments_lexer": "ipython3",
   "version": "3.6.5"
  }
 },
 "nbformat": 4,
 "nbformat_minor": 2
}
