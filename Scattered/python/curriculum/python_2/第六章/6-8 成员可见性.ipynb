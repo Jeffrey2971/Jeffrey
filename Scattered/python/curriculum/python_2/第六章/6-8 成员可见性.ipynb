{
 "cells": [
  {
   "cell_type": "code",
   "execution_count": null,
   "metadata": {},
   "outputs": [],
   "source": [
    "public   公开性 （外部可以访问相关变量    或 外部可以调用相关方法）\n",
    "private  私有性 （外部不可以访问相关变量  或 外部不可以调用相关方法）"
   ]
  },
  {
   "cell_type": "code",
   "execution_count": null,
   "metadata": {},
   "outputs": [],
   "source": []
  },
  {
   "cell_type": "code",
   "execution_count": 59,
   "metadata": {},
   "outputs": [],
   "source": [
    "class Men():\n",
    "    \n",
    "    gender = 'male'               \n",
    "    avg_height = 1.7\n",
    "    \n",
    "    def __init__(self,name,age):\n",
    "        \n",
    "        self.name = name          \n",
    "        self.age  = age\n",
    "        \n",
    "    def sleep(self):                 # 实例方法\n",
    "        print('sleeping')\n",
    "    \n",
    "    def think(self):                \n",
    "        print('thinking')\n",
    "    \n",
    "    @classmethod\n",
    "    def modify_height(cls,height):   # 类方法\n",
    "        cls.avg_height += height\n",
    "        print('Success.Now the avg_height is ' + str(cls.avg_height))\n",
    "    \n",
    "    @staticmethod\n",
    "    def plus_num(x,y):               # 静态方法\n",
    "        return x * y"
   ]
  },
  {
   "cell_type": "code",
   "execution_count": null,
   "metadata": {},
   "outputs": [],
   "source": []
  },
  {
   "cell_type": "code",
   "execution_count": 64,
   "metadata": {},
   "outputs": [],
   "source": [
    "men = Men('lemon',18)"
   ]
  },
  {
   "cell_type": "code",
   "execution_count": 65,
   "metadata": {},
   "outputs": [
    {
     "data": {
      "text/plain": [
       "'lemon'"
      ]
     },
     "execution_count": 65,
     "metadata": {},
     "output_type": "execute_result"
    }
   ],
   "source": [
    "men.name    # 该变量具有公开性"
   ]
  },
  {
   "cell_type": "code",
   "execution_count": 66,
   "metadata": {},
   "outputs": [
    {
     "name": "stdout",
     "output_type": "stream",
     "text": [
      "thinking\n"
     ]
    }
   ],
   "source": [
    "men.think() # 该方法具有公开性"
   ]
  },
  {
   "cell_type": "code",
   "execution_count": null,
   "metadata": {},
   "outputs": [],
   "source": []
  },
  {
   "cell_type": "code",
   "execution_count": 48,
   "metadata": {},
   "outputs": [],
   "source": [
    "# 疑问：如何将变量或方法设置为私有性"
   ]
  },
  {
   "cell_type": "code",
   "execution_count": null,
   "metadata": {},
   "outputs": [],
   "source": []
  },
  {
   "cell_type": "code",
   "execution_count": 86,
   "metadata": {},
   "outputs": [],
   "source": [
    "class Men():\n",
    "    \n",
    "    gender = 'male'               \n",
    "    avg_height = 1.7\n",
    "    \n",
    "    def __init__(self,name,age):\n",
    "        \n",
    "        self.name = name          \n",
    "        self.__age  = age  # 私有变量\n",
    "        \n",
    "    def sleep(self):                 # 实例方法\n",
    "        print('sleeping')\n",
    "    \n",
    "    def __think(self):     # 私有方法             \n",
    "        print('thinking')\n",
    "    \n",
    "    @classmethod\n",
    "    def modify_height(cls,height):   # 类方法\n",
    "        cls.avg_height += height\n",
    "        print('Success.Now the avg_height is ' + str(cls.avg_height))\n",
    "    \n",
    "    @staticmethod\n",
    "    def plus_num(x,y):               # 静态方法\n",
    "        return x * y"
   ]
  },
  {
   "cell_type": "code",
   "execution_count": 87,
   "metadata": {},
   "outputs": [],
   "source": [
    "men = Men('lemon',18)\n"
   ]
  },
  {
   "cell_type": "code",
   "execution_count": 84,
   "metadata": {},
   "outputs": [
    {
     "ename": "AttributeError",
     "evalue": "'Men' object has no attribute 'age'",
     "output_type": "error",
     "traceback": [
      "\u001b[0;31m---------------------------------------------------------------------------\u001b[0m",
      "\u001b[0;31mAttributeError\u001b[0m                            Traceback (most recent call last)",
      "\u001b[0;32m<ipython-input-84-d7d486f5386f>\u001b[0m in \u001b[0;36m<module>\u001b[0;34m()\u001b[0m\n\u001b[0;32m----> 1\u001b[0;31m \u001b[0mmen\u001b[0m\u001b[0;34m.\u001b[0m\u001b[0mage\u001b[0m\u001b[0;34m\u001b[0m\u001b[0m\n\u001b[0m",
      "\u001b[0;31mAttributeError\u001b[0m: 'Men' object has no attribute 'age'"
     ]
    }
   ],
   "source": [
    "men.age"
   ]
  },
  {
   "cell_type": "code",
   "execution_count": 85,
   "metadata": {},
   "outputs": [
    {
     "ename": "AttributeError",
     "evalue": "'Men' object has no attribute '__age'",
     "output_type": "error",
     "traceback": [
      "\u001b[0;31m---------------------------------------------------------------------------\u001b[0m",
      "\u001b[0;31mAttributeError\u001b[0m                            Traceback (most recent call last)",
      "\u001b[0;32m<ipython-input-85-29bd6f9c266e>\u001b[0m in \u001b[0;36m<module>\u001b[0;34m()\u001b[0m\n\u001b[0;32m----> 1\u001b[0;31m \u001b[0mmen\u001b[0m\u001b[0;34m.\u001b[0m\u001b[0m__age\u001b[0m\u001b[0;34m\u001b[0m\u001b[0m\n\u001b[0m",
      "\u001b[0;31mAttributeError\u001b[0m: 'Men' object has no attribute '__age'"
     ]
    }
   ],
   "source": [
    "men.__age"
   ]
  },
  {
   "cell_type": "code",
   "execution_count": 88,
   "metadata": {},
   "outputs": [
    {
     "ename": "AttributeError",
     "evalue": "'Men' object has no attribute 'think'",
     "output_type": "error",
     "traceback": [
      "\u001b[0;31m---------------------------------------------------------------------------\u001b[0m",
      "\u001b[0;31mAttributeError\u001b[0m                            Traceback (most recent call last)",
      "\u001b[0;32m<ipython-input-88-b8c70f9f5727>\u001b[0m in \u001b[0;36m<module>\u001b[0;34m()\u001b[0m\n\u001b[0;32m----> 1\u001b[0;31m \u001b[0mmen\u001b[0m\u001b[0;34m.\u001b[0m\u001b[0mthink\u001b[0m\u001b[0;34m(\u001b[0m\u001b[0;34m)\u001b[0m\u001b[0;34m\u001b[0m\u001b[0m\n\u001b[0m",
      "\u001b[0;31mAttributeError\u001b[0m: 'Men' object has no attribute 'think'"
     ]
    }
   ],
   "source": [
    "men.think()"
   ]
  },
  {
   "cell_type": "code",
   "execution_count": 89,
   "metadata": {},
   "outputs": [
    {
     "ename": "AttributeError",
     "evalue": "'Men' object has no attribute '__think'",
     "output_type": "error",
     "traceback": [
      "\u001b[0;31m---------------------------------------------------------------------------\u001b[0m",
      "\u001b[0;31mAttributeError\u001b[0m                            Traceback (most recent call last)",
      "\u001b[0;32m<ipython-input-89-74da0f6ef9b5>\u001b[0m in \u001b[0;36m<module>\u001b[0;34m()\u001b[0m\n\u001b[0;32m----> 1\u001b[0;31m \u001b[0mmen\u001b[0m\u001b[0;34m.\u001b[0m\u001b[0m__think\u001b[0m\u001b[0;34m(\u001b[0m\u001b[0;34m)\u001b[0m\u001b[0;34m\u001b[0m\u001b[0m\n\u001b[0m",
      "\u001b[0;31mAttributeError\u001b[0m: 'Men' object has no attribute '__think'"
     ]
    }
   ],
   "source": [
    "men.__think()"
   ]
  },
  {
   "cell_type": "code",
   "execution_count": null,
   "metadata": {},
   "outputs": [],
   "source": []
  },
  {
   "cell_type": "code",
   "execution_count": null,
   "metadata": {},
   "outputs": [],
   "source": []
  },
  {
   "cell_type": "code",
   "execution_count": 67,
   "metadata": {},
   "outputs": [],
   "source": [
    "# 扩展：如何去修改实例变量的值"
   ]
  },
  {
   "cell_type": "code",
   "execution_count": 97,
   "metadata": {},
   "outputs": [],
   "source": [
    "class Men():\n",
    "    \n",
    "    gender = 'male'               \n",
    "    avg_height = 1.7\n",
    "    \n",
    "    def __init__(self,name,age):\n",
    "        \n",
    "        self.name = name          \n",
    "        self.age  = age\n",
    "        self.salary = 0\n",
    "    \n",
    "    def modify_salary(self,salary):\n",
    "        self.salary = salary\n",
    "    \n",
    "\n",
    "    def sleep(self):                 # 实例方法\n",
    "        print('sleeping')\n",
    "    \n",
    "    def think(self):                \n",
    "        print('thinking')\n",
    "    \n",
    "    @classmethod\n",
    "    def modify_height(cls,height):   # 类方法\n",
    "        cls.avg_height += height\n",
    "        print('Success.Now the avg_height is ' + str(cls.avg_height))\n",
    "    \n",
    "    @staticmethod\n",
    "    def plus_num(x,y):               # 静态方法\n",
    "        return x * y"
   ]
  },
  {
   "cell_type": "code",
   "execution_count": 98,
   "metadata": {},
   "outputs": [],
   "source": [
    "men = Men('lemon',18)"
   ]
  },
  {
   "cell_type": "code",
   "execution_count": 99,
   "metadata": {},
   "outputs": [],
   "source": [
    "men.salary = 10 # 不建议"
   ]
  },
  {
   "cell_type": "code",
   "execution_count": 100,
   "metadata": {},
   "outputs": [
    {
     "data": {
      "text/plain": [
       "{'name': 'lemon', 'age': 18, 'salary': 10}"
      ]
     },
     "execution_count": 100,
     "metadata": {},
     "output_type": "execute_result"
    }
   ],
   "source": [
    "men.__dict__"
   ]
  },
  {
   "cell_type": "code",
   "execution_count": 101,
   "metadata": {},
   "outputs": [],
   "source": [
    "men.modify_salary(20)"
   ]
  },
  {
   "cell_type": "code",
   "execution_count": 102,
   "metadata": {},
   "outputs": [
    {
     "data": {
      "text/plain": [
       "{'name': 'lemon', 'age': 18, 'salary': 20}"
      ]
     },
     "execution_count": 102,
     "metadata": {},
     "output_type": "execute_result"
    }
   ],
   "source": [
    "men.__dict__"
   ]
  },
  {
   "cell_type": "code",
   "execution_count": null,
   "metadata": {},
   "outputs": [],
   "source": []
  }
 ],
 "metadata": {
  "kernelspec": {
   "display_name": "Python 3",
   "language": "python",
   "name": "python3"
  },
  "language_info": {
   "codemirror_mode": {
    "name": "ipython",
    "version": 3
   },
   "file_extension": ".py",
   "mimetype": "text/x-python",
   "name": "python",
   "nbconvert_exporter": "python",
   "pygments_lexer": "ipython3",
   "version": "3.6.5"
  }
 },
 "nbformat": 4,
 "nbformat_minor": 2
}
