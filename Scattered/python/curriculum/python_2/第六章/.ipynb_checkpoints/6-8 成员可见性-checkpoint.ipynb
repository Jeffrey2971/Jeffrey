{
 "cells": [
  {
   "cell_type": "code",
   "execution_count": null,
   "metadata": {},
   "outputs": [],
   "source": [
    "public   公开性 （外部可以访问相关变量    或 外部可以调用相关方法）\n",
    "private  私有性 （外部不可以访问相关变量  或 外部不可以调用相关方法）"
   ]
  },
  {
   "cell_type": "code",
   "execution_count": null,
   "metadata": {},
   "outputs": [],
   "source": []
  },
  {
   "cell_type": "code",
   "execution_count": 59,
   "metadata": {},
   "outputs": [],
   "source": [
    "class Men():\n",
    "    \n",
    "    gender = 'male'               \n",
    "    avg_height = 1.7\n",
    "    \n",
    "    def __init__(self,name,age):\n",
    "        \n",
    "        self.name = name          \n",
    "        self.age  = age\n",
    "        \n",
    "    def sleep(self):                 # 实例方法\n",
    "        print('sleeping')\n",
    "    \n",
    "    def think(self):                \n",
    "        print('thinking')\n",
    "    \n",
    "    @classmethod\n",
    "    def modify_height(cls,height):   # 类方法\n",
    "        cls.avg_height += height\n",
    "        print('Success.Now the avg_height is ' + str(cls.avg_height))\n",
    "    \n",
    "    @staticmethod\n",
    "    def plus_num(x,y):               # 静态方法\n",
    "        return x * y"
   ]
  },
  {
   "cell_type": "code",
   "execution_count": null,
   "metadata": {},
   "outputs": [],
   "source": []
  },
  {
   "cell_type": "code",
   "execution_count": 64,
   "metadata": {},
   "outputs": [],
   "source": [
    "men = Men('lemon',18)"
   ]
  },
  {
   "cell_type": "code",
   "execution_count": 65,
   "metadata": {},
   "outputs": [
    {
     "data": {
      "text/plain": [
       "'lemon'"
      ]
     },
     "execution_count": 65,
     "metadata": {},
     "output_type": "execute_result"
    }
   ],
   "source": [
    "men.name    # 该变量具有公开性"
   ]
  },
  {
   "cell_type": "code",
   "execution_count": 66,
   "metadata": {},
   "outputs": [
    {
     "name": "stdout",
     "output_type": "stream",
     "text": [
      "thinking\n"
     ]
    }
   ],
   "source": [
    "men.think() # 该方法具有公开性"
   ]
  },
  {
   "cell_type": "code",
   "execution_count": null,
   "metadata": {},
   "outputs": [],
   "source": []
  },
  {
   "cell_type": "code",
   "execution_count": 48,
   "metadata": {},
   "outputs": [],
   "source": [
    "# 疑问：如何将变量或方法设置为私有性"
   ]
  },
  {
   "cell_type": "code",
   "execution_count": null,
   "metadata": {},
   "outputs": [],
   "source": []
  },
  {
   "cell_type": "code",
   "execution_count": 78,
   "metadata": {},
   "outputs": [],
   "source": [
    "class Men():\n",
    "    \n",
    "    gender = 'male'               \n",
    "    avg_height = 1.7\n",
    "    \n",
    "    def __init__(self,name,age):\n",
    "        \n",
    "        self.name = name          \n",
    "        self.age  = age\n",
    "        \n",
    "    def sleep(self):                 # 实例方法\n",
    "        print('sleeping')\n",
    "    \n",
    "    def think(self):                \n",
    "        print('thinking')\n",
    "    \n",
    "    @classmethod\n",
    "    def modify_height(cls,height):   # 类方法\n",
    "        cls.avg_height += height\n",
    "        print('Success.Now the avg_height is ' + str(cls.avg_height))\n",
    "    \n",
    "    @staticmethod\n",
    "    def plus_num(x,y):               # 静态方法\n",
    "        return x * y"
   ]
  },
  {
   "cell_type": "code",
   "execution_count": 77,
   "metadata": {},
   "outputs": [],
   "source": [
    "men = Men('lemon',18)\n"
   ]
  },
  {
   "cell_type": "code",
   "execution_count": null,
   "metadata": {},
   "outputs": [],
   "source": []
  },
  {
   "cell_type": "code",
   "execution_count": null,
   "metadata": {},
   "outputs": [],
   "source": []
  },
  {
   "cell_type": "code",
   "execution_count": null,
   "metadata": {},
   "outputs": [],
   "source": []
  },
  {
   "cell_type": "code",
   "execution_count": null,
   "metadata": {},
   "outputs": [],
   "source": []
  },
  {
   "cell_type": "code",
   "execution_count": null,
   "metadata": {},
   "outputs": [],
   "source": []
  },
  {
   "cell_type": "code",
   "execution_count": null,
   "metadata": {},
   "outputs": [],
   "source": []
  },
  {
   "cell_type": "code",
   "execution_count": 67,
   "metadata": {},
   "outputs": [],
   "source": [
    "# 扩展：如何去修改实例变量的值"
   ]
  },
  {
   "cell_type": "code",
   "execution_count": 58,
   "metadata": {},
   "outputs": [],
   "source": [
    "class Men():\n",
    "    \n",
    "    gender = 'male'               \n",
    "    avg_height = 1.7\n",
    "    \n",
    "    def __init__(self,name,age):\n",
    "        \n",
    "        self.name = name          \n",
    "        self.age  = age\n",
    "        self.salary = 0\n",
    "    \n",
    "\n",
    "    def sleep(self):                 # 实例方法\n",
    "        print('sleeping')\n",
    "    \n",
    "    def think(self):                \n",
    "        print('thinking')\n",
    "    \n",
    "    @classmethod\n",
    "    def modify_height(cls,height):   # 类方法\n",
    "        cls.avg_height += height\n",
    "        print('Success.Now the avg_height is ' + str(cls.avg_height))\n",
    "    \n",
    "    @staticmethod\n",
    "    def plus_num(x,y):               # 静态方法\n",
    "        return x * y"
   ]
  },
  {
   "cell_type": "code",
   "execution_count": null,
   "metadata": {},
   "outputs": [],
   "source": [
    "men = Men('lemon',18)"
   ]
  },
  {
   "cell_type": "code",
   "execution_count": null,
   "metadata": {},
   "outputs": [],
   "source": []
  }
 ],
 "metadata": {
  "kernelspec": {
   "display_name": "Python 3",
   "language": "python",
   "name": "python3"
  },
  "language_info": {
   "codemirror_mode": {
    "name": "ipython",
    "version": 3
   },
   "file_extension": ".py",
   "mimetype": "text/x-python",
   "name": "python",
   "nbconvert_exporter": "python",
   "pygments_lexer": "ipython3",
   "version": "3.6.5"
  }
 },
 "nbformat": 4,
 "nbformat_minor": 2
}
