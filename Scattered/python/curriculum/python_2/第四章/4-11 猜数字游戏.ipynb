{
 "cells": [
  {
   "cell_type": "code",
   "execution_count": null,
   "metadata": {},
   "outputs": [],
   "source": []
  },
  {
   "cell_type": "code",
   "execution_count": 19,
   "metadata": {},
   "outputs": [],
   "source": [
    "# 随机整数 0-9\n",
    "# 用户输入数字，如果输入的数字，不等于答案，则出现比答案大，还是比答案小的提示。\n",
    "# 若等于答案，游戏结束，显示答案\n",
    "\n",
    "# 游戏只能猜三次，若三次内猜中，游戏闯关成功，并显示答案\n",
    "# 若游戏三次内未猜中，游戏闯关失败，并显示答案"
   ]
  },
  {
   "cell_type": "code",
   "execution_count": 6,
   "metadata": {},
   "outputs": [],
   "source": []
  },
  {
   "cell_type": "code",
   "execution_count": 8,
   "metadata": {},
   "outputs": [],
   "source": [
    "import random"
   ]
  },
  {
   "cell_type": "code",
   "execution_count": 10,
   "metadata": {},
   "outputs": [
    {
     "name": "stdout",
     "output_type": "stream",
     "text": [
      "请输入0-9 整数：5\n",
      "小了\n",
      "请输入0-9 整数：8\n",
      "大了\n",
      "请输入0-9 整数：6\n",
      "恭喜你猜中了，正确的答案是：6\n"
     ]
    }
   ],
   "source": [
    "\n",
    "random_num = random.randint(0,9)\n",
    "\n",
    "times = 5\n",
    "\n",
    "while times>0:\n",
    "    guess_num = int(input('请输入0-9 整数：'))\n",
    "    \n",
    "    if guess_num>random_num:\n",
    "        print('大了')\n",
    "    elif guess_num<random_num:\n",
    "        print('小了')\n",
    "    else:\n",
    "        print('恭喜你猜中了，正确的答案是：' + str(random_num))\n",
    "        break\n",
    "    times -=1\n",
    "    \n",
    "    if times == 0:\n",
    "        print('您三次都猜错了，正确的答案是：' + str(random_num))\n",
    "    "
   ]
  },
  {
   "cell_type": "code",
   "execution_count": null,
   "metadata": {},
   "outputs": [],
   "source": []
  },
  {
   "cell_type": "code",
   "execution_count": 16,
   "metadata": {},
   "outputs": [],
   "source": [
    "# 完善：\n",
    "# 1.未设置，数字猜中的时候，未设置退出程序的机制。\n",
    "# 2.未设置，三次都未猜中时，正确的答案。"
   ]
  },
  {
   "cell_type": "code",
   "execution_count": null,
   "metadata": {},
   "outputs": [],
   "source": []
  },
  {
   "cell_type": "code",
   "execution_count": null,
   "metadata": {},
   "outputs": [],
   "source": []
  }
 ],
 "metadata": {
  "kernelspec": {
   "display_name": "Python 3",
   "language": "python",
   "name": "python3"
  },
  "language_info": {
   "codemirror_mode": {
    "name": "ipython",
    "version": 3
   },
   "file_extension": ".py",
   "mimetype": "text/x-python",
   "name": "python",
   "nbconvert_exporter": "python",
   "pygments_lexer": "ipython3",
   "version": "3.6.5"
  }
 },
 "nbformat": 4,
 "nbformat_minor": 2
}
