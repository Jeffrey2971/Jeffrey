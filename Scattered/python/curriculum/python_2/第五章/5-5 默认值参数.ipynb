{
 "cells": [
  {
   "cell_type": "code",
   "execution_count": 23,
   "metadata": {},
   "outputs": [],
   "source": [
    "def func_name(param1 = 'default1',param2 = 'default2'):   \n",
    "      pass"
   ]
  },
  {
   "cell_type": "code",
   "execution_count": 3,
   "metadata": {},
   "outputs": [],
   "source": [
    "# 默认值参数，指的是，参数在定义时，设置的默认值。\n",
    "# 调用函数的时候，如果需要修改默认值参数，建议使用关键字参数，对默认值参数进行重新赋值。关键字参数，可以不遵循默认值参数顺序。"
   ]
  },
  {
   "cell_type": "code",
   "execution_count": 24,
   "metadata": {},
   "outputs": [],
   "source": []
  },
  {
   "cell_type": "code",
   "execution_count": 5,
   "metadata": {},
   "outputs": [],
   "source": [
    "def message(name,age,sex='male',nationality='China'):\n",
    "    print('我叫：' + str(name) )\n",
    "    print('今年：' + str(age) + ' 岁' )\n",
    "    print('性别：：' + str(sex) )\n",
    "    print('国籍为：：' + str(nationality) )"
   ]
  },
  {
   "cell_type": "code",
   "execution_count": null,
   "metadata": {},
   "outputs": [],
   "source": []
  },
  {
   "cell_type": "code",
   "execution_count": 6,
   "metadata": {},
   "outputs": [
    {
     "name": "stdout",
     "output_type": "stream",
     "text": [
      "我叫：lemon\n",
      "今年：8 岁\n",
      "性别：：male\n",
      "国籍为：：China\n"
     ]
    }
   ],
   "source": [
    "message('lemon',8)"
   ]
  },
  {
   "cell_type": "code",
   "execution_count": null,
   "metadata": {},
   "outputs": [],
   "source": []
  },
  {
   "cell_type": "code",
   "execution_count": 8,
   "metadata": {},
   "outputs": [
    {
     "name": "stdout",
     "output_type": "stream",
     "text": [
      "我叫：Alice\n",
      "今年：24 岁\n",
      "性别：：female\n",
      "国籍为：：USA\n"
     ]
    }
   ],
   "source": [
    "message('Alice',24,sex='female',nationality='USA')"
   ]
  },
  {
   "cell_type": "code",
   "execution_count": 10,
   "metadata": {},
   "outputs": [
    {
     "name": "stdout",
     "output_type": "stream",
     "text": [
      "我叫：Alice\n",
      "今年：24 岁\n",
      "性别：：female\n",
      "国籍为：：USA\n"
     ]
    }
   ],
   "source": [
    "message('Alice',24,nationality='USA',sex='female')"
   ]
  },
  {
   "cell_type": "code",
   "execution_count": null,
   "metadata": {},
   "outputs": [],
   "source": []
  }
 ],
 "metadata": {
  "kernelspec": {
   "display_name": "Python 3",
   "language": "python",
   "name": "python3"
  },
  "language_info": {
   "codemirror_mode": {
    "name": "ipython",
    "version": 3
   },
   "file_extension": ".py",
   "mimetype": "text/x-python",
   "name": "python",
   "nbconvert_exporter": "python",
   "pygments_lexer": "ipython3",
   "version": "3.6.5"
  }
 },
 "nbformat": 4,
 "nbformat_minor": 2
}
